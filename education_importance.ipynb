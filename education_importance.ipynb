{
 "cells": [
  {
   "cell_type": "markdown",
   "metadata": {},
   "source": [
    "# What your education and major means for your job placement."
   ]
  },
  {
   "cell_type": "markdown",
   "metadata": {},
   "source": [
    "Today we have with us data from a survey conducted by StackOverflow. Almost 51000 stackoverflow users participated in this survey answering many questions. And based on their answer I am going to try to answer some questions running in my own head."
   ]
  },
  {
   "cell_type": "markdown",
   "metadata": {},
   "source": [
    "But first lets load the data in our program and see what we got here."
   ]
  },
  {
   "cell_type": "code",
   "execution_count": 155,
   "metadata": {
    "pycharm": {
     "is_executing": true
    }
   },
   "outputs": [
    {
     "data": {
      "text/html": [
       "<div>\n",
       "<style scoped>\n",
       "    .dataframe tbody tr th:only-of-type {\n",
       "        vertical-align: middle;\n",
       "    }\n",
       "\n",
       "    .dataframe tbody tr th {\n",
       "        vertical-align: top;\n",
       "    }\n",
       "\n",
       "    .dataframe thead th {\n",
       "        text-align: right;\n",
       "    }\n",
       "</style>\n",
       "<table border=\"1\" class=\"dataframe\">\n",
       "  <thead>\n",
       "    <tr style=\"text-align: right;\">\n",
       "      <th></th>\n",
       "      <th>Respondent</th>\n",
       "      <th>Professional</th>\n",
       "      <th>ProgramHobby</th>\n",
       "      <th>Country</th>\n",
       "      <th>University</th>\n",
       "      <th>EmploymentStatus</th>\n",
       "      <th>FormalEducation</th>\n",
       "      <th>MajorUndergrad</th>\n",
       "      <th>HomeRemote</th>\n",
       "      <th>CompanySize</th>\n",
       "      <th>...</th>\n",
       "      <th>StackOverflowMakeMoney</th>\n",
       "      <th>Gender</th>\n",
       "      <th>HighestEducationParents</th>\n",
       "      <th>Race</th>\n",
       "      <th>SurveyLong</th>\n",
       "      <th>QuestionsInteresting</th>\n",
       "      <th>QuestionsConfusing</th>\n",
       "      <th>InterestedAnswers</th>\n",
       "      <th>Salary</th>\n",
       "      <th>ExpectedSalary</th>\n",
       "    </tr>\n",
       "  </thead>\n",
       "  <tbody>\n",
       "    <tr>\n",
       "      <th>0</th>\n",
       "      <td>1</td>\n",
       "      <td>Student</td>\n",
       "      <td>Yes, both</td>\n",
       "      <td>United States</td>\n",
       "      <td>No</td>\n",
       "      <td>Not employed, and not looking for work</td>\n",
       "      <td>Secondary school</td>\n",
       "      <td>NaN</td>\n",
       "      <td>NaN</td>\n",
       "      <td>NaN</td>\n",
       "      <td>...</td>\n",
       "      <td>Strongly disagree</td>\n",
       "      <td>Male</td>\n",
       "      <td>High school</td>\n",
       "      <td>White or of European descent</td>\n",
       "      <td>Strongly disagree</td>\n",
       "      <td>Strongly agree</td>\n",
       "      <td>Disagree</td>\n",
       "      <td>Strongly agree</td>\n",
       "      <td>NaN</td>\n",
       "      <td>NaN</td>\n",
       "    </tr>\n",
       "    <tr>\n",
       "      <th>1</th>\n",
       "      <td>2</td>\n",
       "      <td>Student</td>\n",
       "      <td>Yes, both</td>\n",
       "      <td>United Kingdom</td>\n",
       "      <td>Yes, full-time</td>\n",
       "      <td>Employed part-time</td>\n",
       "      <td>Some college/university study without earning ...</td>\n",
       "      <td>Computer science or software engineering</td>\n",
       "      <td>More than half, but not all, the time</td>\n",
       "      <td>20 to 99 employees</td>\n",
       "      <td>...</td>\n",
       "      <td>Strongly disagree</td>\n",
       "      <td>Male</td>\n",
       "      <td>A master's degree</td>\n",
       "      <td>White or of European descent</td>\n",
       "      <td>Somewhat agree</td>\n",
       "      <td>Somewhat agree</td>\n",
       "      <td>Disagree</td>\n",
       "      <td>Strongly agree</td>\n",
       "      <td>NaN</td>\n",
       "      <td>37500.0</td>\n",
       "    </tr>\n",
       "    <tr>\n",
       "      <th>2</th>\n",
       "      <td>3</td>\n",
       "      <td>Professional developer</td>\n",
       "      <td>Yes, both</td>\n",
       "      <td>United Kingdom</td>\n",
       "      <td>No</td>\n",
       "      <td>Employed full-time</td>\n",
       "      <td>Bachelor's degree</td>\n",
       "      <td>Computer science or software engineering</td>\n",
       "      <td>Less than half the time, but at least one day ...</td>\n",
       "      <td>10,000 or more employees</td>\n",
       "      <td>...</td>\n",
       "      <td>Disagree</td>\n",
       "      <td>Male</td>\n",
       "      <td>A professional degree</td>\n",
       "      <td>White or of European descent</td>\n",
       "      <td>Somewhat agree</td>\n",
       "      <td>Agree</td>\n",
       "      <td>Disagree</td>\n",
       "      <td>Agree</td>\n",
       "      <td>113750.0</td>\n",
       "      <td>NaN</td>\n",
       "    </tr>\n",
       "    <tr>\n",
       "      <th>3</th>\n",
       "      <td>4</td>\n",
       "      <td>Professional non-developer who sometimes write...</td>\n",
       "      <td>Yes, both</td>\n",
       "      <td>United States</td>\n",
       "      <td>No</td>\n",
       "      <td>Employed full-time</td>\n",
       "      <td>Doctoral degree</td>\n",
       "      <td>A non-computer-focused engineering discipline</td>\n",
       "      <td>Less than half the time, but at least one day ...</td>\n",
       "      <td>10,000 or more employees</td>\n",
       "      <td>...</td>\n",
       "      <td>Disagree</td>\n",
       "      <td>Male</td>\n",
       "      <td>A doctoral degree</td>\n",
       "      <td>White or of European descent</td>\n",
       "      <td>Agree</td>\n",
       "      <td>Agree</td>\n",
       "      <td>Somewhat agree</td>\n",
       "      <td>Strongly agree</td>\n",
       "      <td>NaN</td>\n",
       "      <td>NaN</td>\n",
       "    </tr>\n",
       "    <tr>\n",
       "      <th>4</th>\n",
       "      <td>5</td>\n",
       "      <td>Professional developer</td>\n",
       "      <td>Yes, I program as a hobby</td>\n",
       "      <td>Switzerland</td>\n",
       "      <td>No</td>\n",
       "      <td>Employed full-time</td>\n",
       "      <td>Master's degree</td>\n",
       "      <td>Computer science or software engineering</td>\n",
       "      <td>Never</td>\n",
       "      <td>10 to 19 employees</td>\n",
       "      <td>...</td>\n",
       "      <td>NaN</td>\n",
       "      <td>NaN</td>\n",
       "      <td>NaN</td>\n",
       "      <td>NaN</td>\n",
       "      <td>NaN</td>\n",
       "      <td>NaN</td>\n",
       "      <td>NaN</td>\n",
       "      <td>NaN</td>\n",
       "      <td>NaN</td>\n",
       "      <td>NaN</td>\n",
       "    </tr>\n",
       "  </tbody>\n",
       "</table>\n",
       "<p>5 rows × 154 columns</p>\n",
       "</div>"
      ],
      "text/plain": [
       "   Respondent                                       Professional  \\\n",
       "0           1                                            Student   \n",
       "1           2                                            Student   \n",
       "2           3                             Professional developer   \n",
       "3           4  Professional non-developer who sometimes write...   \n",
       "4           5                             Professional developer   \n",
       "\n",
       "                ProgramHobby         Country      University  \\\n",
       "0                  Yes, both   United States              No   \n",
       "1                  Yes, both  United Kingdom  Yes, full-time   \n",
       "2                  Yes, both  United Kingdom              No   \n",
       "3                  Yes, both   United States              No   \n",
       "4  Yes, I program as a hobby     Switzerland              No   \n",
       "\n",
       "                         EmploymentStatus  \\\n",
       "0  Not employed, and not looking for work   \n",
       "1                      Employed part-time   \n",
       "2                      Employed full-time   \n",
       "3                      Employed full-time   \n",
       "4                      Employed full-time   \n",
       "\n",
       "                                     FormalEducation  \\\n",
       "0                                   Secondary school   \n",
       "1  Some college/university study without earning ...   \n",
       "2                                  Bachelor's degree   \n",
       "3                                    Doctoral degree   \n",
       "4                                    Master's degree   \n",
       "\n",
       "                                  MajorUndergrad  \\\n",
       "0                                            NaN   \n",
       "1       Computer science or software engineering   \n",
       "2       Computer science or software engineering   \n",
       "3  A non-computer-focused engineering discipline   \n",
       "4       Computer science or software engineering   \n",
       "\n",
       "                                          HomeRemote  \\\n",
       "0                                                NaN   \n",
       "1              More than half, but not all, the time   \n",
       "2  Less than half the time, but at least one day ...   \n",
       "3  Less than half the time, but at least one day ...   \n",
       "4                                              Never   \n",
       "\n",
       "                CompanySize  ... StackOverflowMakeMoney Gender  \\\n",
       "0                       NaN  ...      Strongly disagree   Male   \n",
       "1        20 to 99 employees  ...      Strongly disagree   Male   \n",
       "2  10,000 or more employees  ...               Disagree   Male   \n",
       "3  10,000 or more employees  ...               Disagree   Male   \n",
       "4        10 to 19 employees  ...                    NaN    NaN   \n",
       "\n",
       "  HighestEducationParents                          Race         SurveyLong  \\\n",
       "0             High school  White or of European descent  Strongly disagree   \n",
       "1       A master's degree  White or of European descent     Somewhat agree   \n",
       "2   A professional degree  White or of European descent     Somewhat agree   \n",
       "3       A doctoral degree  White or of European descent              Agree   \n",
       "4                     NaN                           NaN                NaN   \n",
       "\n",
       "  QuestionsInteresting QuestionsConfusing InterestedAnswers    Salary  \\\n",
       "0       Strongly agree           Disagree    Strongly agree       NaN   \n",
       "1       Somewhat agree           Disagree    Strongly agree       NaN   \n",
       "2                Agree           Disagree             Agree  113750.0   \n",
       "3                Agree     Somewhat agree    Strongly agree       NaN   \n",
       "4                  NaN                NaN               NaN       NaN   \n",
       "\n",
       "   ExpectedSalary  \n",
       "0             NaN  \n",
       "1         37500.0  \n",
       "2             NaN  \n",
       "3             NaN  \n",
       "4             NaN  \n",
       "\n",
       "[5 rows x 154 columns]"
      ]
     },
     "execution_count": 155,
     "metadata": {},
     "output_type": "execute_result"
    }
   ],
   "source": [
    "import numpy as np\n",
    "import pandas as pd\n",
    "import matplotlib.pyplot as plt\n",
    "%matplotlib inline\n",
    "\n",
    "df = pd.read_csv('./survey_results_public.csv')\n",
    "df.head()"
   ]
  },
  {
   "cell_type": "code",
   "execution_count": 28,
   "metadata": {
    "pycharm": {
     "is_executing": true
    }
   },
   "outputs": [
    {
     "data": {
      "text/plain": [
       "['Respondent',\n",
       " 'Professional',\n",
       " 'ProgramHobby',\n",
       " 'Country',\n",
       " 'University',\n",
       " 'EmploymentStatus',\n",
       " 'FormalEducation',\n",
       " 'MajorUndergrad',\n",
       " 'HomeRemote',\n",
       " 'CompanySize',\n",
       " 'CompanyType',\n",
       " 'YearsProgram',\n",
       " 'YearsCodedJob',\n",
       " 'YearsCodedJobPast',\n",
       " 'DeveloperType',\n",
       " 'WebDeveloperType',\n",
       " 'MobileDeveloperType',\n",
       " 'NonDeveloperType',\n",
       " 'CareerSatisfaction',\n",
       " 'JobSatisfaction',\n",
       " 'ExCoderReturn',\n",
       " 'ExCoderNotForMe',\n",
       " 'ExCoderBalance',\n",
       " 'ExCoder10Years',\n",
       " 'ExCoderBelonged',\n",
       " 'ExCoderSkills',\n",
       " 'ExCoderWillNotCode',\n",
       " 'ExCoderActive',\n",
       " 'PronounceGIF',\n",
       " 'ProblemSolving',\n",
       " 'BuildingThings',\n",
       " 'LearningNewTech',\n",
       " 'BoringDetails',\n",
       " 'JobSecurity',\n",
       " 'DiversityImportant',\n",
       " 'AnnoyingUI',\n",
       " 'FriendsDevelopers',\n",
       " 'RightWrongWay',\n",
       " 'UnderstandComputers',\n",
       " 'SeriousWork',\n",
       " 'InvestTimeTools',\n",
       " 'WorkPayCare',\n",
       " 'KinshipDevelopers',\n",
       " 'ChallengeMyself',\n",
       " 'CompetePeers',\n",
       " 'ChangeWorld',\n",
       " 'JobSeekingStatus',\n",
       " 'HoursPerWeek',\n",
       " 'LastNewJob',\n",
       " 'AssessJobIndustry',\n",
       " 'AssessJobRole',\n",
       " 'AssessJobExp',\n",
       " 'AssessJobDept',\n",
       " 'AssessJobTech',\n",
       " 'AssessJobProjects',\n",
       " 'AssessJobCompensation',\n",
       " 'AssessJobOffice',\n",
       " 'AssessJobCommute',\n",
       " 'AssessJobRemote',\n",
       " 'AssessJobLeaders',\n",
       " 'AssessJobProfDevel',\n",
       " 'AssessJobDiversity',\n",
       " 'AssessJobProduct',\n",
       " 'AssessJobFinances',\n",
       " 'ImportantBenefits',\n",
       " 'ClickyKeys',\n",
       " 'JobProfile',\n",
       " 'ResumePrompted',\n",
       " 'LearnedHiring',\n",
       " 'ImportantHiringAlgorithms',\n",
       " 'ImportantHiringTechExp',\n",
       " 'ImportantHiringCommunication',\n",
       " 'ImportantHiringOpenSource',\n",
       " 'ImportantHiringPMExp',\n",
       " 'ImportantHiringCompanies',\n",
       " 'ImportantHiringTitles',\n",
       " 'ImportantHiringEducation',\n",
       " 'ImportantHiringRep',\n",
       " 'ImportantHiringGettingThingsDone',\n",
       " 'Currency',\n",
       " 'Overpaid',\n",
       " 'TabsSpaces',\n",
       " 'EducationImportant',\n",
       " 'EducationTypes',\n",
       " 'SelfTaughtTypes',\n",
       " 'TimeAfterBootcamp',\n",
       " 'CousinEducation',\n",
       " 'WorkStart',\n",
       " 'HaveWorkedLanguage',\n",
       " 'WantWorkLanguage',\n",
       " 'HaveWorkedFramework',\n",
       " 'WantWorkFramework',\n",
       " 'HaveWorkedDatabase',\n",
       " 'WantWorkDatabase',\n",
       " 'HaveWorkedPlatform',\n",
       " 'WantWorkPlatform',\n",
       " 'IDE',\n",
       " 'AuditoryEnvironment',\n",
       " 'Methodology',\n",
       " 'VersionControl',\n",
       " 'CheckInCode',\n",
       " 'ShipIt',\n",
       " 'OtherPeoplesCode',\n",
       " 'ProjectManagement',\n",
       " 'EnjoyDebugging',\n",
       " 'InTheZone',\n",
       " 'DifficultCommunication',\n",
       " 'CollaborateRemote',\n",
       " 'MetricAssess',\n",
       " 'EquipmentSatisfiedMonitors',\n",
       " 'EquipmentSatisfiedCPU',\n",
       " 'EquipmentSatisfiedRAM',\n",
       " 'EquipmentSatisfiedStorage',\n",
       " 'EquipmentSatisfiedRW',\n",
       " 'InfluenceInternet',\n",
       " 'InfluenceWorkstation',\n",
       " 'InfluenceHardware',\n",
       " 'InfluenceServers',\n",
       " 'InfluenceTechStack',\n",
       " 'InfluenceDeptTech',\n",
       " 'InfluenceVizTools',\n",
       " 'InfluenceDatabase',\n",
       " 'InfluenceCloud',\n",
       " 'InfluenceConsultants',\n",
       " 'InfluenceRecruitment',\n",
       " 'InfluenceCommunication',\n",
       " 'StackOverflowDescribes',\n",
       " 'StackOverflowSatisfaction',\n",
       " 'StackOverflowDevices',\n",
       " 'StackOverflowFoundAnswer',\n",
       " 'StackOverflowCopiedCode',\n",
       " 'StackOverflowJobListing',\n",
       " 'StackOverflowCompanyPage',\n",
       " 'StackOverflowJobSearch',\n",
       " 'StackOverflowNewQuestion',\n",
       " 'StackOverflowAnswer',\n",
       " 'StackOverflowMetaChat',\n",
       " 'StackOverflowAdsRelevant',\n",
       " 'StackOverflowAdsDistracting',\n",
       " 'StackOverflowModeration',\n",
       " 'StackOverflowCommunity',\n",
       " 'StackOverflowHelpful',\n",
       " 'StackOverflowBetter',\n",
       " 'StackOverflowWhatDo',\n",
       " 'StackOverflowMakeMoney',\n",
       " 'Gender',\n",
       " 'HighestEducationParents',\n",
       " 'Race',\n",
       " 'SurveyLong',\n",
       " 'QuestionsInteresting',\n",
       " 'QuestionsConfusing',\n",
       " 'InterestedAnswers',\n",
       " 'Salary',\n",
       " 'ExpectedSalary']"
      ]
     },
     "execution_count": 28,
     "metadata": {},
     "output_type": "execute_result"
    }
   ],
   "source": [
    "df.columns.tolist()"
   ]
  },
  {
   "cell_type": "markdown",
   "metadata": {},
   "source": [
    "## Where do people with different education levels ends up?"
   ]
  },
  {
   "cell_type": "markdown",
   "metadata": {},
   "source": [
    "There are a many interesting data points in this data but I'm most interested in is the FormalEducation since I want to know how does your education level reflect on your career and what kind of company you will end up in. So, lets look around the data in this column"
   ]
  },
  {
   "cell_type": "code",
   "execution_count": 158,
   "metadata": {
    "pycharm": {
     "is_executing": true
    }
   },
   "outputs": [
    {
     "data": {
      "text/plain": [
       "array(['Secondary school',\n",
       "       \"Some college/university study without earning a bachelor's degree\",\n",
       "       \"Bachelor's degree\", 'Doctoral degree', \"Master's degree\",\n",
       "       'Professional degree', 'Primary/elementary school',\n",
       "       'I prefer not to answer', 'I never completed any formal education'],\n",
       "      dtype=object)"
      ]
     },
     "execution_count": 158,
     "metadata": {},
     "output_type": "execute_result"
    }
   ],
   "source": [
    "df['FormalEducation'].unique()"
   ]
  },
  {
   "cell_type": "code",
   "execution_count": 159,
   "metadata": {
    "pycharm": {
     "is_executing": true
    }
   },
   "outputs": [
    {
     "data": {
      "image/png": "[encoded data removed]",
      "text/plain": [
       "<Figure size 432x288 with 1 Axes>"
      ]
     },
     "metadata": {
      "needs_background": "light"
     },
     "output_type": "display_data"
    }
   ],
   "source": [
    "professionals = df.FormalEducation.value_counts()\n",
    "\n",
    "(professionals/df.shape[0]).plot(kind=\"bar\");"
   ]
  },
  {
   "cell_type": "markdown",
   "metadata": {},
   "source": [
    "Clearly we got a lot of people with minimum college level education. lets separate this data with companysize and see where these people are working right now."
   ]
  },
  {
   "cell_type": "code",
   "execution_count": 160,
   "metadata": {
    "pycharm": {
     "is_executing": true
    }
   },
   "outputs": [],
   "source": [
    "education_df = df[['FormalEducation', 'CompanySize']]"
   ]
  },
  {
   "cell_type": "code",
   "execution_count": 161,
   "metadata": {
    "pycharm": {
     "is_executing": true
    }
   },
   "outputs": [
    {
     "data": {
      "text/html": [
       "<div>\n",
       "<style scoped>\n",
       "    .dataframe tbody tr th:only-of-type {\n",
       "        vertical-align: middle;\n",
       "    }\n",
       "\n",
       "    .dataframe tbody tr th {\n",
       "        vertical-align: top;\n",
       "    }\n",
       "\n",
       "    .dataframe thead th {\n",
       "        text-align: right;\n",
       "    }\n",
       "</style>\n",
       "<table border=\"1\" class=\"dataframe\">\n",
       "  <thead>\n",
       "    <tr style=\"text-align: right;\">\n",
       "      <th>CompanySize</th>\n",
       "      <th>1,000 to 4,999 employees</th>\n",
       "      <th>10 to 19 employees</th>\n",
       "      <th>10,000 or more employees</th>\n",
       "      <th>100 to 499 employees</th>\n",
       "      <th>20 to 99 employees</th>\n",
       "      <th>5,000 to 9,999 employees</th>\n",
       "      <th>500 to 999 employees</th>\n",
       "      <th>Fewer than 10 employees</th>\n",
       "      <th>I don't know</th>\n",
       "      <th>I prefer not to answer</th>\n",
       "    </tr>\n",
       "    <tr>\n",
       "      <th>FormalEducation</th>\n",
       "      <th></th>\n",
       "      <th></th>\n",
       "      <th></th>\n",
       "      <th></th>\n",
       "      <th></th>\n",
       "      <th></th>\n",
       "      <th></th>\n",
       "      <th></th>\n",
       "      <th></th>\n",
       "      <th></th>\n",
       "    </tr>\n",
       "  </thead>\n",
       "  <tbody>\n",
       "    <tr>\n",
       "      <th>Bachelor's degree</th>\n",
       "      <td>1732</td>\n",
       "      <td>1936</td>\n",
       "      <td>2804</td>\n",
       "      <td>3509</td>\n",
       "      <td>4030</td>\n",
       "      <td>772</td>\n",
       "      <td>1199</td>\n",
       "      <td>1559</td>\n",
       "      <td>359</td>\n",
       "      <td>291</td>\n",
       "    </tr>\n",
       "    <tr>\n",
       "      <th>Doctoral degree</th>\n",
       "      <td>167</td>\n",
       "      <td>74</td>\n",
       "      <td>240</td>\n",
       "      <td>173</td>\n",
       "      <td>168</td>\n",
       "      <td>74</td>\n",
       "      <td>75</td>\n",
       "      <td>85</td>\n",
       "      <td>38</td>\n",
       "      <td>15</td>\n",
       "    </tr>\n",
       "    <tr>\n",
       "      <th>I never completed any formal education</th>\n",
       "      <td>15</td>\n",
       "      <td>36</td>\n",
       "      <td>18</td>\n",
       "      <td>36</td>\n",
       "      <td>45</td>\n",
       "      <td>7</td>\n",
       "      <td>14</td>\n",
       "      <td>51</td>\n",
       "      <td>6</td>\n",
       "      <td>11</td>\n",
       "    </tr>\n",
       "    <tr>\n",
       "      <th>I prefer not to answer</th>\n",
       "      <td>33</td>\n",
       "      <td>52</td>\n",
       "      <td>22</td>\n",
       "      <td>54</td>\n",
       "      <td>81</td>\n",
       "      <td>10</td>\n",
       "      <td>23</td>\n",
       "      <td>37</td>\n",
       "      <td>16</td>\n",
       "      <td>36</td>\n",
       "    </tr>\n",
       "    <tr>\n",
       "      <th>Master's degree</th>\n",
       "      <td>1079</td>\n",
       "      <td>776</td>\n",
       "      <td>1574</td>\n",
       "      <td>1837</td>\n",
       "      <td>1999</td>\n",
       "      <td>440</td>\n",
       "      <td>653</td>\n",
       "      <td>756</td>\n",
       "      <td>192</td>\n",
       "      <td>163</td>\n",
       "    </tr>\n",
       "    <tr>\n",
       "      <th>Primary/elementary school</th>\n",
       "      <td>15</td>\n",
       "      <td>33</td>\n",
       "      <td>17</td>\n",
       "      <td>40</td>\n",
       "      <td>55</td>\n",
       "      <td>4</td>\n",
       "      <td>4</td>\n",
       "      <td>48</td>\n",
       "      <td>15</td>\n",
       "      <td>6</td>\n",
       "    </tr>\n",
       "    <tr>\n",
       "      <th>Professional degree</th>\n",
       "      <td>58</td>\n",
       "      <td>68</td>\n",
       "      <td>67</td>\n",
       "      <td>107</td>\n",
       "      <td>120</td>\n",
       "      <td>24</td>\n",
       "      <td>44</td>\n",
       "      <td>52</td>\n",
       "      <td>9</td>\n",
       "      <td>10</td>\n",
       "    </tr>\n",
       "    <tr>\n",
       "      <th>Secondary school</th>\n",
       "      <td>219</td>\n",
       "      <td>379</td>\n",
       "      <td>296</td>\n",
       "      <td>470</td>\n",
       "      <td>655</td>\n",
       "      <td>81</td>\n",
       "      <td>139</td>\n",
       "      <td>456</td>\n",
       "      <td>95</td>\n",
       "      <td>68</td>\n",
       "    </tr>\n",
       "    <tr>\n",
       "      <th>Some college/university study without earning a bachelor's degree</th>\n",
       "      <td>513</td>\n",
       "      <td>749</td>\n",
       "      <td>642</td>\n",
       "      <td>1048</td>\n",
       "      <td>1434</td>\n",
       "      <td>192</td>\n",
       "      <td>335</td>\n",
       "      <td>763</td>\n",
       "      <td>139</td>\n",
       "      <td>81</td>\n",
       "    </tr>\n",
       "  </tbody>\n",
       "</table>\n",
       "</div>"
      ],
      "text/plain": [
       "CompanySize                                         1,000 to 4,999 employees  \\\n",
       "FormalEducation                                                                \n",
       "Bachelor's degree                                                       1732   \n",
       "Doctoral degree                                                          167   \n",
       "I never completed any formal education                                    15   \n",
       "I prefer not to answer                                                    33   \n",
       "Master's degree                                                         1079   \n",
       "Primary/elementary school                                                 15   \n",
       "Professional degree                                                       58   \n",
       "Secondary school                                                         219   \n",
       "Some college/university study without earning a...                       513   \n",
       "\n",
       "CompanySize                                         10 to 19 employees  \\\n",
       "FormalEducation                                                          \n",
       "Bachelor's degree                                                 1936   \n",
       "Doctoral degree                                                     74   \n",
       "I never completed any formal education                              36   \n",
       "I prefer not to answer                                              52   \n",
       "Master's degree                                                    776   \n",
       "Primary/elementary school                                           33   \n",
       "Professional degree                                                 68   \n",
       "Secondary school                                                   379   \n",
       "Some college/university study without earning a...                 749   \n",
       "\n",
       "CompanySize                                         10,000 or more employees  \\\n",
       "FormalEducation                                                                \n",
       "Bachelor's degree                                                       2804   \n",
       "Doctoral degree                                                          240   \n",
       "I never completed any formal education                                    18   \n",
       "I prefer not to answer                                                    22   \n",
       "Master's degree                                                         1574   \n",
       "Primary/elementary school                                                 17   \n",
       "Professional degree                                                       67   \n",
       "Secondary school                                                         296   \n",
       "Some college/university study without earning a...                       642   \n",
       "\n",
       "CompanySize                                         100 to 499 employees  \\\n",
       "FormalEducation                                                            \n",
       "Bachelor's degree                                                   3509   \n",
       "Doctoral degree                                                      173   \n",
       "I never completed any formal education                                36   \n",
       "I prefer not to answer                                                54   \n",
       "Master's degree                                                     1837   \n",
       "Primary/elementary school                                             40   \n",
       "Professional degree                                                  107   \n",
       "Secondary school                                                     470   \n",
       "Some college/university study without earning a...                  1048   \n",
       "\n",
       "CompanySize                                         20 to 99 employees  \\\n",
       "FormalEducation                                                          \n",
       "Bachelor's degree                                                 4030   \n",
       "Doctoral degree                                                    168   \n",
       "I never completed any formal education                              45   \n",
       "I prefer not to answer                                              81   \n",
       "Master's degree                                                   1999   \n",
       "Primary/elementary school                                           55   \n",
       "Professional degree                                                120   \n",
       "Secondary school                                                   655   \n",
       "Some college/university study without earning a...                1434   \n",
       "\n",
       "CompanySize                                         5,000 to 9,999 employees  \\\n",
       "FormalEducation                                                                \n",
       "Bachelor's degree                                                        772   \n",
       "Doctoral degree                                                           74   \n",
       "I never completed any formal education                                     7   \n",
       "I prefer not to answer                                                    10   \n",
       "Master's degree                                                          440   \n",
       "Primary/elementary school                                                  4   \n",
       "Professional degree                                                       24   \n",
       "Secondary school                                                          81   \n",
       "Some college/university study without earning a...                       192   \n",
       "\n",
       "CompanySize                                         500 to 999 employees  \\\n",
       "FormalEducation                                                            \n",
       "Bachelor's degree                                                   1199   \n",
       "Doctoral degree                                                       75   \n",
       "I never completed any formal education                                14   \n",
       "I prefer not to answer                                                23   \n",
       "Master's degree                                                      653   \n",
       "Primary/elementary school                                              4   \n",
       "Professional degree                                                   44   \n",
       "Secondary school                                                     139   \n",
       "Some college/university study without earning a...                   335   \n",
       "\n",
       "CompanySize                                         Fewer than 10 employees  \\\n",
       "FormalEducation                                                               \n",
       "Bachelor's degree                                                      1559   \n",
       "Doctoral degree                                                          85   \n",
       "I never completed any formal education                                   51   \n",
       "I prefer not to answer                                                   37   \n",
       "Master's degree                                                         756   \n",
       "Primary/elementary school                                                48   \n",
       "Professional degree                                                      52   \n",
       "Secondary school                                                        456   \n",
       "Some college/university study without earning a...                      763   \n",
       "\n",
       "CompanySize                                         I don't know  \\\n",
       "FormalEducation                                                    \n",
       "Bachelor's degree                                            359   \n",
       "Doctoral degree                                               38   \n",
       "I never completed any formal education                         6   \n",
       "I prefer not to answer                                        16   \n",
       "Master's degree                                              192   \n",
       "Primary/elementary school                                     15   \n",
       "Professional degree                                            9   \n",
       "Secondary school                                              95   \n",
       "Some college/university study without earning a...           139   \n",
       "\n",
       "CompanySize                                         I prefer not to answer  \n",
       "FormalEducation                                                             \n",
       "Bachelor's degree                                                      291  \n",
       "Doctoral degree                                                         15  \n",
       "I never completed any formal education                                  11  \n",
       "I prefer not to answer                                                  36  \n",
       "Master's degree                                                        163  \n",
       "Primary/elementary school                                                6  \n",
       "Professional degree                                                     10  \n",
       "Secondary school                                                        68  \n",
       "Some college/university study without earning a...                      81  "
      ]
     },
     "execution_count": 161,
     "metadata": {},
     "output_type": "execute_result"
    }
   ],
   "source": [
    "education_group_df = education_df.groupby(['FormalEducation','CompanySize']).size().unstack()\n",
    "education_group_df"
   ]
  },
  {
   "cell_type": "markdown",
   "metadata": {},
   "source": [
    "we can see what number of each education level is placed in what size of company let see this visually to get some more clearity"
   ]
  },
  {
   "cell_type": "code",
   "execution_count": 162,
   "metadata": {
    "pycharm": {
     "is_executing": true
    }
   },
   "outputs": [
    {
     "data": {
      "text/plain": [
       "<AxesSubplot:xlabel='FormalEducation'>"
      ]
     },
     "execution_count": 162,
     "metadata": {},
     "output_type": "execute_result"
    },
    {
     "data": {
      "image/png": "[encoded data removed]",
      "text/plain": [
       "<Figure size 1440x720 with 1 Axes>"
      ]
     },
     "metadata": {
      "needs_background": "light"
     },
     "output_type": "display_data"
    }
   ],
   "source": [
    "education_group_df.plot(kind='bar', figsize=(20,10))"
   ]
  },
  {
   "cell_type": "markdown",
   "metadata": {},
   "source": [
    "Well, that isn't much clear, is it?\n",
    "so lets do his again but instead of exact count lets see what percentage of each education level ends up in each company size"
   ]
  },
  {
   "cell_type": "code",
   "execution_count": 141,
   "metadata": {
    "pycharm": {
     "is_executing": true
    }
   },
   "outputs": [
    {
     "data": {
      "text/html": [
       "<div>\n",
       "<style scoped>\n",
       "    .dataframe tbody tr th:only-of-type {\n",
       "        vertical-align: middle;\n",
       "    }\n",
       "\n",
       "    .dataframe tbody tr th {\n",
       "        vertical-align: top;\n",
       "    }\n",
       "\n",
       "    .dataframe thead th {\n",
       "        text-align: right;\n",
       "    }\n",
       "</style>\n",
       "<table border=\"1\" class=\"dataframe\">\n",
       "  <thead>\n",
       "    <tr style=\"text-align: right;\">\n",
       "      <th>CompanySize</th>\n",
       "      <th>1,000 to 4,999 employees</th>\n",
       "      <th>10 to 19 employees</th>\n",
       "      <th>10,000 or more employees</th>\n",
       "      <th>100 to 499 employees</th>\n",
       "      <th>20 to 99 employees</th>\n",
       "      <th>5,000 to 9,999 employees</th>\n",
       "      <th>500 to 999 employees</th>\n",
       "      <th>Fewer than 10 employees</th>\n",
       "      <th>I don't know</th>\n",
       "      <th>I prefer not to answer</th>\n",
       "    </tr>\n",
       "    <tr>\n",
       "      <th>FormalEducation</th>\n",
       "      <th></th>\n",
       "      <th></th>\n",
       "      <th></th>\n",
       "      <th></th>\n",
       "      <th></th>\n",
       "      <th></th>\n",
       "      <th></th>\n",
       "      <th></th>\n",
       "      <th></th>\n",
       "      <th></th>\n",
       "    </tr>\n",
       "  </thead>\n",
       "  <tbody>\n",
       "    <tr>\n",
       "      <th>Bachelor's degree</th>\n",
       "      <td>0.095212</td>\n",
       "      <td>0.106426</td>\n",
       "      <td>0.154142</td>\n",
       "      <td>0.192898</td>\n",
       "      <td>0.221538</td>\n",
       "      <td>0.042439</td>\n",
       "      <td>0.065912</td>\n",
       "      <td>0.085702</td>\n",
       "      <td>0.019735</td>\n",
       "      <td>0.015997</td>\n",
       "    </tr>\n",
       "    <tr>\n",
       "      <th>Doctoral degree</th>\n",
       "      <td>0.150586</td>\n",
       "      <td>0.066727</td>\n",
       "      <td>0.216411</td>\n",
       "      <td>0.155996</td>\n",
       "      <td>0.151488</td>\n",
       "      <td>0.066727</td>\n",
       "      <td>0.067628</td>\n",
       "      <td>0.076646</td>\n",
       "      <td>0.034265</td>\n",
       "      <td>0.013526</td>\n",
       "    </tr>\n",
       "    <tr>\n",
       "      <th>I never completed any formal education</th>\n",
       "      <td>0.062762</td>\n",
       "      <td>0.150628</td>\n",
       "      <td>0.075314</td>\n",
       "      <td>0.150628</td>\n",
       "      <td>0.188285</td>\n",
       "      <td>0.029289</td>\n",
       "      <td>0.058577</td>\n",
       "      <td>0.213389</td>\n",
       "      <td>0.025105</td>\n",
       "      <td>0.046025</td>\n",
       "    </tr>\n",
       "    <tr>\n",
       "      <th>I prefer not to answer</th>\n",
       "      <td>0.090659</td>\n",
       "      <td>0.142857</td>\n",
       "      <td>0.060440</td>\n",
       "      <td>0.148352</td>\n",
       "      <td>0.222527</td>\n",
       "      <td>0.027473</td>\n",
       "      <td>0.063187</td>\n",
       "      <td>0.101648</td>\n",
       "      <td>0.043956</td>\n",
       "      <td>0.098901</td>\n",
       "    </tr>\n",
       "    <tr>\n",
       "      <th>Master's degree</th>\n",
       "      <td>0.113951</td>\n",
       "      <td>0.081952</td>\n",
       "      <td>0.166227</td>\n",
       "      <td>0.194001</td>\n",
       "      <td>0.211110</td>\n",
       "      <td>0.046467</td>\n",
       "      <td>0.068962</td>\n",
       "      <td>0.079839</td>\n",
       "      <td>0.020277</td>\n",
       "      <td>0.017214</td>\n",
       "    </tr>\n",
       "    <tr>\n",
       "      <th>Primary/elementary school</th>\n",
       "      <td>0.063291</td>\n",
       "      <td>0.139241</td>\n",
       "      <td>0.071730</td>\n",
       "      <td>0.168776</td>\n",
       "      <td>0.232068</td>\n",
       "      <td>0.016878</td>\n",
       "      <td>0.016878</td>\n",
       "      <td>0.202532</td>\n",
       "      <td>0.063291</td>\n",
       "      <td>0.025316</td>\n",
       "    </tr>\n",
       "    <tr>\n",
       "      <th>Professional degree</th>\n",
       "      <td>0.103757</td>\n",
       "      <td>0.121646</td>\n",
       "      <td>0.119857</td>\n",
       "      <td>0.191413</td>\n",
       "      <td>0.214669</td>\n",
       "      <td>0.042934</td>\n",
       "      <td>0.078712</td>\n",
       "      <td>0.093023</td>\n",
       "      <td>0.016100</td>\n",
       "      <td>0.017889</td>\n",
       "    </tr>\n",
       "    <tr>\n",
       "      <th>Secondary school</th>\n",
       "      <td>0.076627</td>\n",
       "      <td>0.132610</td>\n",
       "      <td>0.103569</td>\n",
       "      <td>0.164451</td>\n",
       "      <td>0.229181</td>\n",
       "      <td>0.028341</td>\n",
       "      <td>0.048635</td>\n",
       "      <td>0.159552</td>\n",
       "      <td>0.033240</td>\n",
       "      <td>0.023793</td>\n",
       "    </tr>\n",
       "    <tr>\n",
       "      <th>Some college/university study without earning a bachelor's degree</th>\n",
       "      <td>0.087008</td>\n",
       "      <td>0.127035</td>\n",
       "      <td>0.108887</td>\n",
       "      <td>0.177748</td>\n",
       "      <td>0.243216</td>\n",
       "      <td>0.032564</td>\n",
       "      <td>0.056818</td>\n",
       "      <td>0.129410</td>\n",
       "      <td>0.023575</td>\n",
       "      <td>0.013738</td>\n",
       "    </tr>\n",
       "  </tbody>\n",
       "</table>\n",
       "</div>"
      ],
      "text/plain": [
       "CompanySize                                         1,000 to 4,999 employees  \\\n",
       "FormalEducation                                                                \n",
       "Bachelor's degree                                                   0.095212   \n",
       "Doctoral degree                                                     0.150586   \n",
       "I never completed any formal education                              0.062762   \n",
       "I prefer not to answer                                              0.090659   \n",
       "Master's degree                                                     0.113951   \n",
       "Primary/elementary school                                           0.063291   \n",
       "Professional degree                                                 0.103757   \n",
       "Secondary school                                                    0.076627   \n",
       "Some college/university study without earning a...                  0.087008   \n",
       "\n",
       "CompanySize                                         10 to 19 employees  \\\n",
       "FormalEducation                                                          \n",
       "Bachelor's degree                                             0.106426   \n",
       "Doctoral degree                                               0.066727   \n",
       "I never completed any formal education                        0.150628   \n",
       "I prefer not to answer                                        0.142857   \n",
       "Master's degree                                               0.081952   \n",
       "Primary/elementary school                                     0.139241   \n",
       "Professional degree                                           0.121646   \n",
       "Secondary school                                              0.132610   \n",
       "Some college/university study without earning a...            0.127035   \n",
       "\n",
       "CompanySize                                         10,000 or more employees  \\\n",
       "FormalEducation                                                                \n",
       "Bachelor's degree                                                   0.154142   \n",
       "Doctoral degree                                                     0.216411   \n",
       "I never completed any formal education                              0.075314   \n",
       "I prefer not to answer                                              0.060440   \n",
       "Master's degree                                                     0.166227   \n",
       "Primary/elementary school                                           0.071730   \n",
       "Professional degree                                                 0.119857   \n",
       "Secondary school                                                    0.103569   \n",
       "Some college/university study without earning a...                  0.108887   \n",
       "\n",
       "CompanySize                                         100 to 499 employees  \\\n",
       "FormalEducation                                                            \n",
       "Bachelor's degree                                               0.192898   \n",
       "Doctoral degree                                                 0.155996   \n",
       "I never completed any formal education                          0.150628   \n",
       "I prefer not to answer                                          0.148352   \n",
       "Master's degree                                                 0.194001   \n",
       "Primary/elementary school                                       0.168776   \n",
       "Professional degree                                             0.191413   \n",
       "Secondary school                                                0.164451   \n",
       "Some college/university study without earning a...              0.177748   \n",
       "\n",
       "CompanySize                                         20 to 99 employees  \\\n",
       "FormalEducation                                                          \n",
       "Bachelor's degree                                             0.221538   \n",
       "Doctoral degree                                               0.151488   \n",
       "I never completed any formal education                        0.188285   \n",
       "I prefer not to answer                                        0.222527   \n",
       "Master's degree                                               0.211110   \n",
       "Primary/elementary school                                     0.232068   \n",
       "Professional degree                                           0.214669   \n",
       "Secondary school                                              0.229181   \n",
       "Some college/university study without earning a...            0.243216   \n",
       "\n",
       "CompanySize                                         5,000 to 9,999 employees  \\\n",
       "FormalEducation                                                                \n",
       "Bachelor's degree                                                   0.042439   \n",
       "Doctoral degree                                                     0.066727   \n",
       "I never completed any formal education                              0.029289   \n",
       "I prefer not to answer                                              0.027473   \n",
       "Master's degree                                                     0.046467   \n",
       "Primary/elementary school                                           0.016878   \n",
       "Professional degree                                                 0.042934   \n",
       "Secondary school                                                    0.028341   \n",
       "Some college/university study without earning a...                  0.032564   \n",
       "\n",
       "CompanySize                                         500 to 999 employees  \\\n",
       "FormalEducation                                                            \n",
       "Bachelor's degree                                               0.065912   \n",
       "Doctoral degree                                                 0.067628   \n",
       "I never completed any formal education                          0.058577   \n",
       "I prefer not to answer                                          0.063187   \n",
       "Master's degree                                                 0.068962   \n",
       "Primary/elementary school                                       0.016878   \n",
       "Professional degree                                             0.078712   \n",
       "Secondary school                                                0.048635   \n",
       "Some college/university study without earning a...              0.056818   \n",
       "\n",
       "CompanySize                                         Fewer than 10 employees  \\\n",
       "FormalEducation                                                               \n",
       "Bachelor's degree                                                  0.085702   \n",
       "Doctoral degree                                                    0.076646   \n",
       "I never completed any formal education                             0.213389   \n",
       "I prefer not to answer                                             0.101648   \n",
       "Master's degree                                                    0.079839   \n",
       "Primary/elementary school                                          0.202532   \n",
       "Professional degree                                                0.093023   \n",
       "Secondary school                                                   0.159552   \n",
       "Some college/university study without earning a...                 0.129410   \n",
       "\n",
       "CompanySize                                         I don't know  \\\n",
       "FormalEducation                                                    \n",
       "Bachelor's degree                                       0.019735   \n",
       "Doctoral degree                                         0.034265   \n",
       "I never completed any formal education                  0.025105   \n",
       "I prefer not to answer                                  0.043956   \n",
       "Master's degree                                         0.020277   \n",
       "Primary/elementary school                               0.063291   \n",
       "Professional degree                                     0.016100   \n",
       "Secondary school                                        0.033240   \n",
       "Some college/university study without earning a...      0.023575   \n",
       "\n",
       "CompanySize                                         I prefer not to answer  \n",
       "FormalEducation                                                             \n",
       "Bachelor's degree                                                 0.015997  \n",
       "Doctoral degree                                                   0.013526  \n",
       "I never completed any formal education                            0.046025  \n",
       "I prefer not to answer                                            0.098901  \n",
       "Master's degree                                                   0.017214  \n",
       "Primary/elementary school                                         0.025316  \n",
       "Professional degree                                               0.017889  \n",
       "Secondary school                                                  0.023793  \n",
       "Some college/university study without earning a...                0.013738  "
      ]
     },
     "execution_count": 141,
     "metadata": {},
     "output_type": "execute_result"
    }
   ],
   "source": [
    "education_group_df = education_df.groupby(['FormalEducation','CompanySize']).size().unstack()\n",
    "education_group_df = education_group_df.div(education_group_df.sum(1), 0)\n",
    "education_group_df"
   ]
  },
  {
   "cell_type": "code",
   "execution_count": 142,
   "metadata": {
    "pycharm": {
     "is_executing": true
    }
   },
   "outputs": [
    {
     "data": {
      "text/plain": [
       "<AxesSubplot:xlabel='FormalEducation'>"
      ]
     },
     "execution_count": 142,
     "metadata": {},
     "output_type": "execute_result"
    },
    {
     "data": {
      "image/png": "[encoded data removed]",
      "text/plain": [
       "<Figure size 1440x720 with 1 Axes>"
      ]
     },
     "metadata": {
      "needs_background": "light"
     },
     "output_type": "display_data"
    }
   ],
   "source": [
    "education_group_df.plot(kind='bar', figsize=(20,10))"
   ]
  },
  {
   "cell_type": "markdown",
   "metadata": {},
   "source": [
    "Its a lot clear now. From the graph above we can see a few things rights way. A higer percentage of people with college level and above ends up in large corporate companies compared to people with lower education level. and difference in promeinent as the education level increases. Moreover, you are more likely to end up in a small scale company or startup if you did not go to college or dropped out."
   ]
  },
  {
   "cell_type": "markdown",
   "metadata": {},
   "source": [
    "## What about your college major?"
   ]
  },
  {
   "cell_type": "markdown",
   "metadata": {},
   "source": [
    "So we saw people getting into college or higher education mostly ended up in companies with 1000+ employees. but is going to college is all it takes or do you also need to a computer related major. For that we a column name `MajorUndergrad`. lets see what we got here"
   ]
  },
  {
   "cell_type": "code",
   "execution_count": 163,
   "metadata": {
    "pycharm": {
     "is_executing": true
    }
   },
   "outputs": [
    {
     "data": {
      "text/plain": [
       "array([nan, 'Computer science or software engineering',\n",
       "       'A non-computer-focused engineering discipline',\n",
       "       'A social science', 'Mathematics or statistics',\n",
       "       'Computer engineering or electrical/electronics engineering',\n",
       "       'A natural science', 'A business discipline',\n",
       "       'Computer programming or Web development',\n",
       "       'Information technology, networking, or system administration',\n",
       "       'I never declared a major', 'Something else',\n",
       "       'Fine arts or performing arts', 'Management information systems',\n",
       "       'A humanities discipline', 'Psychology', 'A health science'],\n",
       "      dtype=object)"
      ]
     },
     "execution_count": 163,
     "metadata": {},
     "output_type": "execute_result"
    }
   ],
   "source": [
    "education_major_df = df[['MajorUndergrad','CompanySize']]\n",
    "education_major_df['MajorUndergrad'].unique()"
   ]
  },
  {
   "cell_type": "markdown",
   "metadata": {},
   "source": [
    "We got people who studied different things in college but lets just divide it into people who studied computer related degree and people who had a none college major"
   ]
  },
  {
   "cell_type": "code",
   "execution_count": 165,
   "metadata": {
    "pycharm": {
     "is_executing": true
    }
   },
   "outputs": [
    {
     "data": {
      "text/plain": [
       "['Not a Computer Major', 'Computer Major']"
      ]
     },
     "execution_count": 165,
     "metadata": {},
     "output_type": "execute_result"
    }
   ],
   "source": [
    "def is_major_computer(major):\n",
    "    computer_majors = ['Computer science or software engineering', 'Computer engineering or electrical/electronics engineering', 'Computer programming or Web development', 'Information technology, networking, or system administration', 'Computer Major']\n",
    "    return 'Computer Major' if major in computer_majors else 'Not a Computer Major'\n",
    "\n",
    "education_major_df['MajorUndergrad'] = education_major_df['MajorUndergrad'].apply(lambda x: is_major_computer(x))\n",
    "education_major_df.MajorUndergrad.unique().tolist()"
   ]
  },
  {
   "cell_type": "code",
   "execution_count": 166,
   "metadata": {
    "pycharm": {
     "is_executing": true
    }
   },
   "outputs": [
    {
     "data": {
      "image/png": "[encoded data removed]",
      "text/plain": [
       "<Figure size 720x360 with 2 Axes>"
      ]
     },
     "metadata": {
      "needs_background": "light"
     },
     "output_type": "display_data"
    }
   ],
   "source": [
    "education_major_group_df = education_major_df.groupby(['MajorUndergrad', 'CompanySize']).size().reset_index(name='count')\n",
    "education_major_group_df2 = education_major_group_df.groupby(['MajorUndergrad'])\n",
    "fig, axes = plt.subplots(education_major_group_df2.ngroups,sharex=True, figsize=(10, 5))\n",
    "fig.tight_layout()\n",
    "\n",
    "for i, (MajorUndergrad, d) in enumerate(education_major_group_df2):\n",
    "    d['count'] = d['count'].apply(lambda x: x/d['count'].sum())\n",
    "    ax = d.plot.bar(x='CompanySize', y='count', ax=axes[i], title=MajorUndergrad)\n",
    "    ax.get_legend().remove()"
   ]
  },
  {
   "cell_type": "markdown",
   "metadata": {},
   "source": [
    "As we can see your college major really doesn't matter that much because similar percentage of people from both type of majors ends up in each category of company size. "
   ]
  },
  {
   "cell_type": "markdown",
   "metadata": {},
   "source": [
    "## But are people who came from a none computer science major happy at their jobs?"
   ]
  },
  {
   "cell_type": "markdown",
   "metadata": {},
   "source": [
    "So you got into Computer related career leave your major in college behind. How satisfied are you with your decission? "
   ]
  },
  {
   "cell_type": "markdown",
   "metadata": {},
   "source": [
    "Luckily, we got some satisfaction fields in our data that we can use to see how satisfied people from other majors are in computer science career compared to people who planned to be here. lets clean these fields and see what we got here."
   ]
  },
  {
   "cell_type": "code",
   "execution_count": 153,
   "metadata": {
    "pycharm": {
     "is_executing": true
    }
   },
   "outputs": [],
   "source": [
    "satisfaction_df = df[['MajorUndergrad','CareerSatisfaction', 'JobSatisfaction']]\n",
    "satisfaction_df = satisfaction_df.dropna(subset=['MajorUndergrad'], how='any')\n",
    "satisfaction_df= satisfaction_df.dropna(subset=['CareerSatisfaction', 'JobSatisfaction'], how='all')\n",
    "satisfaction_df['MajorUndergrad'] = satisfaction_df['MajorUndergrad'].apply(lambda x: is_major_computer(x))"
   ]
  },
  {
   "cell_type": "code",
   "execution_count": 154,
   "metadata": {},
   "outputs": [
    {
     "data": {
      "text/plain": [
       "<AxesSubplot:>"
      ]
     },
     "execution_count": 154,
     "metadata": {},
     "output_type": "execute_result"
    },
    {
     "data": {
      "image/png": "[encoded data removed]",
      "text/plain": [
       "<Figure size 936x504 with 1 Axes>"
      ]
     },
     "metadata": {
      "needs_background": "light"
     },
     "output_type": "display_data"
    }
   ],
   "source": [
    "satisfaction_df.groupby(['MajorUndergrad']).mean().T.plot(kind='bar', figsize=(13,7))"
   ]
  },
  {
   "cell_type": "markdown",
   "metadata": {},
   "source": [
    "This Graph shows that on average people from either major are happy in there career. Amazingily people who swtiched to this career are slightly more satisfied with there jobs. and why wouldnt they be Computer Science in awesome and we know it. :)"
   ]
  },
  {
   "cell_type": "code",
   "execution_count": null,
   "metadata": {},
   "outputs": [],
   "source": []
  }
 ],
 "metadata": {
  "kernelspec": {
   "display_name": "Python 3 (ipykernel)",
   "language": "python",
   "name": "python3"
  },
  "language_info": {
   "codemirror_mode": {
    "name": "ipython",
    "version": 3
   },
   "file_extension": ".py",
   "mimetype": "text/x-python",
   "name": "python",
   "nbconvert_exporter": "python",
   "pygments_lexer": "ipython3",
   "version": "3.8.7"
  }
 },
 "nbformat": 4,
 "nbformat_minor": 1
}